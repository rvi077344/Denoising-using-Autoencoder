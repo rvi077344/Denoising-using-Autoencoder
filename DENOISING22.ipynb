{
  "nbformat": 4,
  "nbformat_minor": 0,
  "metadata": {
    "colab": {
      "name": "DENOISING22.ipynb",
      "provenance": [],
      "collapsed_sections": [],
      "authorship_tag": "ABX9TyMdNP9U9oymdu6OXkfTwm7S",
      "include_colab_link": true
    },
    "kernelspec": {
      "name": "python3",
      "display_name": "Python 3"
    },
    "accelerator": "GPU"
  },
  "cells": [
    {
      "cell_type": "markdown",
      "metadata": {
        "id": "view-in-github",
        "colab_type": "text"
      },
      "source": [
        "<a href=\"https://colab.research.google.com/github/rvi077344/Denoising-using-Autoencoder/blob/master/DENOISING22.ipynb\" target=\"_parent\"><img src=\"https://colab.research.google.com/assets/colab-badge.svg\" alt=\"Open In Colab\"/></a>"
      ]
    },
    {
      "cell_type": "code",
      "metadata": {
        "id": "QTbQPsXNfuB_",
        "colab_type": "code",
        "outputId": "0b0efb73-a8e8-4cd7-e049-69d60249c1cd",
        "colab": {
          "base_uri": "https://localhost:8080/",
          "height": 373
        }
      },
      "source": [
        "!pip install tensorflow==2.0.0.beta0"
      ],
      "execution_count": 0,
      "outputs": [
        {
          "output_type": "stream",
          "text": [
            "Requirement already satisfied: tensorflow==2.0.0.beta0 in /usr/local/lib/python3.6/dist-packages (2.0.0b0)\n",
            "Requirement already satisfied: numpy<2.0,>=1.14.5 in /usr/local/lib/python3.6/dist-packages (from tensorflow==2.0.0.beta0) (1.18.2)\n",
            "Requirement already satisfied: termcolor>=1.1.0 in /usr/local/lib/python3.6/dist-packages (from tensorflow==2.0.0.beta0) (1.1.0)\n",
            "Requirement already satisfied: tb-nightly<1.14.0a20190604,>=1.14.0a20190603 in /usr/local/lib/python3.6/dist-packages (from tensorflow==2.0.0.beta0) (1.14.0a20190603)\n",
            "Requirement already satisfied: grpcio>=1.8.6 in /usr/local/lib/python3.6/dist-packages (from tensorflow==2.0.0.beta0) (1.27.2)\n",
            "Requirement already satisfied: protobuf>=3.6.1 in /usr/local/lib/python3.6/dist-packages (from tensorflow==2.0.0.beta0) (3.10.0)\n",
            "Requirement already satisfied: six>=1.10.0 in /usr/local/lib/python3.6/dist-packages (from tensorflow==2.0.0.beta0) (1.12.0)\n",
            "Requirement already satisfied: wrapt>=1.11.1 in /usr/local/lib/python3.6/dist-packages (from tensorflow==2.0.0.beta0) (1.12.1)\n",
            "Requirement already satisfied: wheel>=0.26 in /usr/local/lib/python3.6/dist-packages (from tensorflow==2.0.0.beta0) (0.34.2)\n",
            "Requirement already satisfied: astor>=0.6.0 in /usr/local/lib/python3.6/dist-packages (from tensorflow==2.0.0.beta0) (0.8.1)\n",
            "Requirement already satisfied: tf-estimator-nightly<1.14.0.dev2019060502,>=1.14.0.dev2019060501 in /usr/local/lib/python3.6/dist-packages (from tensorflow==2.0.0.beta0) (1.14.0.dev2019060501)\n",
            "Requirement already satisfied: google-pasta>=0.1.6 in /usr/local/lib/python3.6/dist-packages (from tensorflow==2.0.0.beta0) (0.2.0)\n",
            "Requirement already satisfied: absl-py>=0.7.0 in /usr/local/lib/python3.6/dist-packages (from tensorflow==2.0.0.beta0) (0.9.0)\n",
            "Requirement already satisfied: keras-preprocessing>=1.0.5 in /usr/local/lib/python3.6/dist-packages (from tensorflow==2.0.0.beta0) (1.1.0)\n",
            "Requirement already satisfied: keras-applications>=1.0.6 in /usr/local/lib/python3.6/dist-packages (from tensorflow==2.0.0.beta0) (1.0.8)\n",
            "Requirement already satisfied: gast>=0.2.0 in /usr/local/lib/python3.6/dist-packages (from tensorflow==2.0.0.beta0) (0.3.3)\n",
            "Requirement already satisfied: werkzeug>=0.11.15 in /usr/local/lib/python3.6/dist-packages (from tb-nightly<1.14.0a20190604,>=1.14.0a20190603->tensorflow==2.0.0.beta0) (1.0.0)\n",
            "Requirement already satisfied: setuptools>=41.0.0 in /usr/local/lib/python3.6/dist-packages (from tb-nightly<1.14.0a20190604,>=1.14.0a20190603->tensorflow==2.0.0.beta0) (46.0.0)\n",
            "Requirement already satisfied: markdown>=2.6.8 in /usr/local/lib/python3.6/dist-packages (from tb-nightly<1.14.0a20190604,>=1.14.0a20190603->tensorflow==2.0.0.beta0) (3.2.1)\n",
            "Requirement already satisfied: h5py in /usr/local/lib/python3.6/dist-packages (from keras-applications>=1.0.6->tensorflow==2.0.0.beta0) (2.10.0)\n"
          ],
          "name": "stdout"
        }
      ]
    },
    {
      "cell_type": "code",
      "metadata": {
        "id": "Q_B8cqWqfz2j",
        "colab_type": "code",
        "outputId": "d5bf538b-4206-41b7-a0c0-cac27a172cb3",
        "colab": {
          "base_uri": "https://localhost:8080/",
          "height": 34
        }
      },
      "source": [
        "import tensorflow as tf\n",
        "print(tf.__version__)\n",
        "from tensorflow.keras import models, layers, optimizers"
      ],
      "execution_count": 0,
      "outputs": [
        {
          "output_type": "stream",
          "text": [
            "2.0.0-beta0\n"
          ],
          "name": "stdout"
        }
      ]
    },
    {
      "cell_type": "code",
      "metadata": {
        "id": "o75okzIDfeEI",
        "colab_type": "code",
        "colab": {}
      },
      "source": [
        "NCLASSES = 10\n",
        "HEIGHT = 28\n",
        "WIDTH = 28\n",
        "NUM_CHANNELS = 1\n",
        "BATCH_SIZE = 128"
      ],
      "execution_count": 0,
      "outputs": []
    },
    {
      "cell_type": "code",
      "metadata": {
        "id": "Wi17TtO1sQFD",
        "colab_type": "code",
        "colab": {}
      },
      "source": [
        "input_img = layers.Input(shape=(HEIGHT, WIDTH, NUM_CHANNELS))"
      ],
      "execution_count": 0,
      "outputs": []
    },
    {
      "cell_type": "code",
      "metadata": {
        "id": "np6BviYSsjXR",
        "colab_type": "code",
        "colab": {}
      },
      "source": [
        "#ENCODER\n",
        "x = layers.Conv2D(filters=16, kernel_size=(3,3), activation=tf.nn.relu, padding='same')(input_img)\n",
        "x = layers.MaxPooling2D((2,2), padding='same')(x)\n",
        "x = layers.Conv2D(filters=8, kernel_size=(3,3), activation=tf.nn.relu, padding='same')(x)\n",
        "x = layers.MaxPooling2D((2,2), padding='same')(x)\n",
        "x = layers.Conv2D(filters=8, kernel_size=(3,3), activation=tf.nn.relu, padding='same')(x)\n",
        "encoder = layers.MaxPooling2D((2,2), padding='same')(x)"
      ],
      "execution_count": 0,
      "outputs": []
    },
    {
      "cell_type": "code",
      "metadata": {
        "id": "AI1g5jRvuEsV",
        "colab_type": "code",
        "colab": {}
      },
      "source": [
        "#DECODER\n",
        "x = layers.Conv2D(filters=8, kernel_size=(3,3), activation=tf.nn.relu, padding='same')(encoder)\n",
        "x = layers.UpSampling2D((2,2))(x)\n",
        "x = layers.Conv2D(filters=8, kernel_size=(3,3), activation=tf.nn.relu, padding='same')(x)\n",
        "x = layers.UpSampling2D((2,2))(x)\n",
        "x = layers.Conv2D(filters=16, kernel_size=(3,3), activation=tf.nn.relu )(x) \n",
        "x = layers.UpSampling2D((2,2))(x)\n",
        "decoder = layers.Conv2D(filters=1, kernel_size=(3,3), activation='sigmoid',padding='same')(x)"
      ],
      "execution_count": 0,
      "outputs": []
    },
    {
      "cell_type": "code",
      "metadata": {
        "id": "blFFfxwSuWga",
        "colab_type": "code",
        "colab": {}
      },
      "source": [
        "#autoencoder\n",
        "autoencoder = models.Model(input_img, decoder)\n",
        "autoencoder.compile(optimizer='adam',loss = 'binary_crossentropy',metrics=['accuracy'])                    "
      ],
      "execution_count": 0,
      "outputs": []
    },
    {
      "cell_type": "code",
      "metadata": {
        "id": "9godUSedx0iE",
        "colab_type": "code",
        "outputId": "e42a9b67-63e9-4464-9e14-37afe95a0cca",
        "colab": {
          "base_uri": "https://localhost:8080/",
          "height": 638
        }
      },
      "source": [
        "print(autoencoder.summary())"
      ],
      "execution_count": 0,
      "outputs": [
        {
          "output_type": "stream",
          "text": [
            "Model: \"model\"\n",
            "_________________________________________________________________\n",
            "Layer (type)                 Output Shape              Param #   \n",
            "=================================================================\n",
            "input_1 (InputLayer)         [(None, 28, 28, 1)]       0         \n",
            "_________________________________________________________________\n",
            "conv2d (Conv2D)              (None, 28, 28, 16)        160       \n",
            "_________________________________________________________________\n",
            "max_pooling2d (MaxPooling2D) (None, 14, 14, 16)        0         \n",
            "_________________________________________________________________\n",
            "conv2d_1 (Conv2D)            (None, 14, 14, 8)         1160      \n",
            "_________________________________________________________________\n",
            "max_pooling2d_1 (MaxPooling2 (None, 7, 7, 8)           0         \n",
            "_________________________________________________________________\n",
            "conv2d_2 (Conv2D)            (None, 7, 7, 8)           584       \n",
            "_________________________________________________________________\n",
            "max_pooling2d_2 (MaxPooling2 (None, 4, 4, 8)           0         \n",
            "_________________________________________________________________\n",
            "conv2d_3 (Conv2D)            (None, 4, 4, 8)           584       \n",
            "_________________________________________________________________\n",
            "up_sampling2d (UpSampling2D) (None, 8, 8, 8)           0         \n",
            "_________________________________________________________________\n",
            "conv2d_4 (Conv2D)            (None, 8, 8, 8)           584       \n",
            "_________________________________________________________________\n",
            "up_sampling2d_1 (UpSampling2 (None, 16, 16, 8)         0         \n",
            "_________________________________________________________________\n",
            "conv2d_5 (Conv2D)            (None, 14, 14, 16)        1168      \n",
            "_________________________________________________________________\n",
            "up_sampling2d_2 (UpSampling2 (None, 28, 28, 16)        0         \n",
            "_________________________________________________________________\n",
            "conv2d_6 (Conv2D)            (None, 28, 28, 1)         145       \n",
            "=================================================================\n",
            "Total params: 4,385\n",
            "Trainable params: 4,385\n",
            "Non-trainable params: 0\n",
            "_________________________________________________________________\n",
            "None\n"
          ],
          "name": "stdout"
        }
      ]
    },
    {
      "cell_type": "code",
      "metadata": {
        "id": "uSqtZ9rESnrn",
        "colab_type": "code",
        "outputId": "9e97a60f-d9e1-4d21-c629-c9acdfe320c8",
        "colab": {
          "base_uri": "https://localhost:8080/",
          "height": 34
        }
      },
      "source": [
        "import tensorflow as tf\n",
        "import numpy as np\n",
        "import matplotlib.pyplot as plt\n",
        "from tensorflow import keras\n",
        "mnist = tf.keras.datasets.mnist\n",
        "(x_train, _ ),(x_test, _ ) = mnist.load_data()\n",
        "print(x_train.shape, x_test.shape)"
      ],
      "execution_count": 0,
      "outputs": [
        {
          "output_type": "stream",
          "text": [
            "(60000, 28, 28) (10000, 28, 28)\n"
          ],
          "name": "stdout"
        }
      ]
    },
    {
      "cell_type": "code",
      "metadata": {
        "id": "QIXubp1UUE_j",
        "colab_type": "code",
        "outputId": "ec3f6cb6-e636-4f16-f3c6-f77a7bbe2f6f",
        "colab": {
          "base_uri": "https://localhost:8080/",
          "height": 34
        }
      },
      "source": [
        "x_train=x_train.reshape(60000,28,28,1)\n",
        "x_train = x_train/255.0\n",
        "x_test=x_test.reshape(10000,28,28,1)\n",
        "x_test = x_test/255.0\n",
        "print(x_train.shape, x_test.shape)"
      ],
      "execution_count": 0,
      "outputs": [
        {
          "output_type": "stream",
          "text": [
            "(60000, 28, 28, 1) (10000, 28, 28, 1)\n"
          ],
          "name": "stdout"
        }
      ]
    },
    {
      "cell_type": "code",
      "metadata": {
        "id": "Ms0r_B5BUPFO",
        "colab_type": "code",
        "outputId": "e7210b70-ab55-4ac3-d815-2570840f0b47",
        "colab": {
          "base_uri": "https://localhost:8080/",
          "height": 440
        }
      },
      "source": [
        "history=autoencoder.fit(x_train,x_train,epochs=10, batch_size = BATCH_SIZE)"
      ],
      "execution_count": 0,
      "outputs": [
        {
          "output_type": "stream",
          "text": [
            "WARNING:tensorflow:From /usr/local/lib/python3.6/dist-packages/tensorflow/python/ops/math_grad.py:1250: add_dispatch_support.<locals>.wrapper (from tensorflow.python.ops.array_ops) is deprecated and will be removed in a future version.\n",
            "Instructions for updating:\n",
            "Use tf.where in 2.0, which has the same broadcast rule as np.where\n",
            "Train on 60000 samples\n",
            "Epoch 1/10\n",
            "60000/60000 [==============================] - 86s 1ms/sample - loss: 0.2114 - accuracy: 0.7990\n",
            "Epoch 2/10\n",
            "60000/60000 [==============================] - 86s 1ms/sample - loss: 0.1328 - accuracy: 0.8056\n",
            "Epoch 3/10\n",
            "60000/60000 [==============================] - 86s 1ms/sample - loss: 0.1216 - accuracy: 0.8080\n",
            "Epoch 4/10\n",
            "60000/60000 [==============================] - 87s 1ms/sample - loss: 0.1161 - accuracy: 0.8092\n",
            "Epoch 5/10\n",
            "60000/60000 [==============================] - 86s 1ms/sample - loss: 0.1123 - accuracy: 0.8099\n",
            "Epoch 6/10\n",
            "60000/60000 [==============================] - 87s 1ms/sample - loss: 0.1092 - accuracy: 0.8105\n",
            "Epoch 7/10\n",
            "60000/60000 [==============================] - 88s 1ms/sample - loss: 0.1067 - accuracy: 0.8109\n",
            "Epoch 8/10\n",
            "60000/60000 [==============================] - 87s 1ms/sample - loss: 0.1047 - accuracy: 0.8113\n",
            "Epoch 9/10\n",
            "60000/60000 [==============================] - 87s 1ms/sample - loss: 0.1030 - accuracy: 0.8116\n",
            "Epoch 10/10\n",
            "60000/60000 [==============================] - 87s 1ms/sample - loss: 0.1016 - accuracy: 0.8118\n"
          ],
          "name": "stdout"
        }
      ]
    },
    {
      "cell_type": "code",
      "metadata": {
        "id": "TIJWsVsSVJXg",
        "colab_type": "code",
        "colab": {}
      },
      "source": [
        "import matplotlib.pyplot as plt"
      ],
      "execution_count": 0,
      "outputs": []
    },
    {
      "cell_type": "code",
      "metadata": {
        "id": "K9BngEmgV2oC",
        "colab_type": "code",
        "colab": {}
      },
      "source": [
        "decoded_imgs = autoencoder.predict(x_test[:1])"
      ],
      "execution_count": 0,
      "outputs": []
    },
    {
      "cell_type": "code",
      "metadata": {
        "id": "Tp-4W3rKWJ_j",
        "colab_type": "code",
        "outputId": "c540d372-2700-4d9c-f45e-25cbe5b7be0e",
        "colab": {
          "base_uri": "https://localhost:8080/",
          "height": 282
        }
      },
      "source": [
        "plt.imshow(x_test[0].reshape(28,28))"
      ],
      "execution_count": 0,
      "outputs": [
        {
          "output_type": "execute_result",
          "data": {
            "text/plain": [
              "<matplotlib.image.AxesImage at 0x7f471af28be0>"
            ]
          },
          "metadata": {
            "tags": []
          },
          "execution_count": 15
        },
        {
          "output_type": "display_data",
          "data": {
            "image/png": "[encoded data removed]",
            "text/plain": [
              "<Figure size 432x288 with 1 Axes>"
            ]
          },
          "metadata": {
            "tags": []
          }
        }
      ]
    },
    {
      "cell_type": "code",
      "metadata": {
        "id": "EYxKrN7LWWPm",
        "colab_type": "code",
        "outputId": "9803081d-7c4e-4d5d-db54-4554d4ab4683",
        "colab": {
          "base_uri": "https://localhost:8080/",
          "height": 282
        }
      },
      "source": [
        "plt.imshow(decoded_imgs[0].reshape(28,28))"
      ],
      "execution_count": 0,
      "outputs": [
        {
          "output_type": "execute_result",
          "data": {
            "text/plain": [
              "<matplotlib.image.AxesImage at 0x7f471a9fe908>"
            ]
          },
          "metadata": {
            "tags": []
          },
          "execution_count": 16
        },
        {
          "output_type": "display_data",
          "data": {
            "image/png": "[encoded data removed]",
            "text/plain": [
              "<Figure size 432x288 with 1 Axes>"
            ]
          },
          "metadata": {
            "tags": []
          }
        }
      ]
    },
    {
      "cell_type": "code",
      "metadata": {
        "id": "BwOwayI1WkYD",
        "colab_type": "code",
        "colab": {}
      },
      "source": [
        "#add noise\n",
        "factor = 0.5\n",
        "x_train_noisy = x_train + factor * np.random.normal(loc=0.0, scale=1.0, size=x_train.shape)\n",
        "x_train_noisy = np.clip(x_train_noisy, 0., 1.)\n",
        "x_test_noisy = x_test + factor * np.random.normal(loc=0.0, scale=1.0, size=x_test.shape)\n",
        "x_test_noisy = np.clip(x_test_noisy, 0., 1.)"
      ],
      "execution_count": 0,
      "outputs": []
    },
    {
      "cell_type": "code",
      "metadata": {
        "id": "ZWCs_yxQYL3a",
        "colab_type": "code",
        "outputId": "f292b6fc-9b57-4179-bcce-fe0975f48c4d",
        "colab": {
          "base_uri": "https://localhost:8080/",
          "height": 265
        }
      },
      "source": [
        "plt.imshow(x_test_noisy[0].reshape(28,28))\n",
        "plt.gray()"
      ],
      "execution_count": 0,
      "outputs": [
        {
          "output_type": "display_data",
          "data": {
            "image/png": "[encoded data removed]",
            "text/plain": [
              "<Figure size 432x288 with 1 Axes>"
            ]
          },
          "metadata": {
            "tags": []
          }
        }
      ]
    },
    {
      "cell_type": "code",
      "metadata": {
        "id": "DF4S5liWYd3j",
        "colab_type": "code",
        "outputId": "066dd1f1-85c8-4440-9128-f55de541e77b",
        "colab": {
          "base_uri": "https://localhost:8080/",
          "height": 370
        }
      },
      "source": [
        "history_1=autoencoder.fit(x_train_noisy,x_train,epochs=10, batch_size = BATCH_SIZE)"
      ],
      "execution_count": 0,
      "outputs": [
        {
          "output_type": "stream",
          "text": [
            "Train on 60000 samples\n",
            "Epoch 1/10\n",
            "60000/60000 [==============================] - 87s 1ms/sample - loss: 0.1242 - accuracy: 0.8095\n",
            "Epoch 2/10\n",
            "60000/60000 [==============================] - 87s 1ms/sample - loss: 0.1236 - accuracy: 0.8096\n",
            "Epoch 3/10\n",
            "60000/60000 [==============================] - 86s 1ms/sample - loss: 0.1231 - accuracy: 0.8097\n",
            "Epoch 4/10\n",
            "60000/60000 [==============================] - 87s 1ms/sample - loss: 0.1226 - accuracy: 0.8098\n",
            "Epoch 5/10\n",
            "60000/60000 [==============================] - 88s 1ms/sample - loss: 0.1222 - accuracy: 0.8098\n",
            "Epoch 6/10\n",
            "60000/60000 [==============================] - 87s 1ms/sample - loss: 0.1218 - accuracy: 0.8099\n",
            "Epoch 7/10\n",
            "60000/60000 [==============================] - 88s 1ms/sample - loss: 0.1214 - accuracy: 0.8100\n",
            "Epoch 8/10\n",
            "60000/60000 [==============================] - 88s 1ms/sample - loss: 0.1210 - accuracy: 0.8100\n",
            "Epoch 9/10\n",
            "60000/60000 [==============================] - 89s 1ms/sample - loss: 0.1208 - accuracy: 0.8101\n",
            "Epoch 10/10\n",
            "60000/60000 [==============================] - 88s 1ms/sample - loss: 0.1205 - accuracy: 0.8101\n"
          ],
          "name": "stdout"
        }
      ]
    },
    {
      "cell_type": "code",
      "metadata": {
        "id": "8HvTRxDSY88t",
        "colab_type": "code",
        "colab": {}
      },
      "source": [
        "cleaned_imgs=autoencoder.predict(x_test_noisy[:1])"
      ],
      "execution_count": 0,
      "outputs": []
    },
    {
      "cell_type": "code",
      "metadata": {
        "id": "lTzT5D5gZjXX",
        "colab_type": "code",
        "outputId": "27284f40-91b7-459e-97f9-8257d5c1440e",
        "colab": {
          "base_uri": "https://localhost:8080/",
          "height": 282
        }
      },
      "source": [
        "plt.imshow(x_test_noisy[0].reshape(28,28))"
      ],
      "execution_count": 0,
      "outputs": [
        {
          "output_type": "execute_result",
          "data": {
            "text/plain": [
              "<matplotlib.image.AxesImage at 0x7f471a8294a8>"
            ]
          },
          "metadata": {
            "tags": []
          },
          "execution_count": 26
        },
        {
          "output_type": "display_data",
          "data": {
            "image/png": "[encoded data removed]",
            "text/plain": [
              "<Figure size 432x288 with 1 Axes>"
            ]
          },
          "metadata": {
            "tags": []
          }
        }
      ]
    },
    {
      "cell_type": "code",
      "metadata": {
        "id": "AVRFyVXuZtJW",
        "colab_type": "code",
        "outputId": "cb422ea0-9881-4eb2-f6f1-4871d7681051",
        "colab": {
          "base_uri": "https://localhost:8080/",
          "height": 282
        }
      },
      "source": [
        "plt.imshow(cleaned_imgs[0].reshape(28,28))"
      ],
      "execution_count": 0,
      "outputs": [
        {
          "output_type": "execute_result",
          "data": {
            "text/plain": [
              "<matplotlib.image.AxesImage at 0x7f471a77cb00>"
            ]
          },
          "metadata": {
            "tags": []
          },
          "execution_count": 27
        },
        {
          "output_type": "display_data",
          "data": {
            "image/png": "[encoded data removed]",
            "text/plain": [
              "<Figure size 432x288 with 1 Axes>"
            ]
          },
          "metadata": {
            "tags": []
          }
        }
      ]
    },
    {
      "cell_type": "code",
      "metadata": {
        "id": "n5JQJXM8aMW_",
        "colab_type": "code",
        "colab": {}
      },
      "source": [
        ""
      ],
      "execution_count": 0,
      "outputs": []
    }
  ]
}